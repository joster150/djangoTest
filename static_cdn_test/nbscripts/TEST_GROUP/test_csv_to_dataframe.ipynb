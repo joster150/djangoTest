{
 "cells": [
  {
   "cell_type": "markdown",
   "metadata": {},
   "source": [
    "This module contains tests for the csv to dataframe conversion functions within the csv_to_dataframe module"
   ]
  },
  {
   "cell_type": "markdown",
   "metadata": {
    "toc": true
   },
   "source": [
    "<h1>Table of Contents<span class=\"tocSkip\"></span></h1>\n",
    "<div class=\"toc\"><ul class=\"toc-item\"><li><span><a href=\"#Imports\" data-toc-modified-id=\"Imports-1\"><span class=\"toc-item-num\">1&nbsp;&nbsp;</span>Imports</a></span></li><li><span><a href=\"#Test-Functions\" data-toc-modified-id=\"Test-Functions-2\"><span class=\"toc-item-num\">2&nbsp;&nbsp;</span>Test Functions</a></span><ul class=\"toc-item\"><li><span><a href=\"#FUNCTION-csv_to_df-FOR-no-params\" data-toc-modified-id=\"FUNCTION-csv_to_df-FOR-no-params-2.1\"><span class=\"toc-item-num\">2.1&nbsp;&nbsp;</span>FUNCTION csv_to_df FOR no params</a></span></li><li><span><a href=\"#FUNCTION-csv_to_df-FOR-csv-file-and-non-csv-file\" data-toc-modified-id=\"FUNCTION-csv_to_df-FOR-csv-file-and-non-csv-file-2.2\"><span class=\"toc-item-num\">2.2&nbsp;&nbsp;</span>FUNCTION csv_to_df FOR csv file and non csv file</a></span></li></ul></li></ul></div>"
   ]
  },
  {
   "cell_type": "markdown",
   "metadata": {},
   "source": [
    "# Imports"
   ]
  },
  {
   "cell_type": "code",
   "execution_count": 14,
   "metadata": {},
   "outputs": [],
   "source": [
    "from importnb import Notebook\n",
    "import pytest\n",
    "import pandas as pd\n",
    "from io import StringIO\n",
    "with __import__('importnb').Notebook():\n",
    "    import csv_to_dataframe"
   ]
  },
  {
   "cell_type": "markdown",
   "metadata": {},
   "source": [
    "# Test Functions"
   ]
  },
  {
   "cell_type": "markdown",
   "metadata": {},
   "source": [
    "## FUNCTION csv_to_df FOR no params"
   ]
  },
  {
   "cell_type": "code",
   "execution_count": 15,
   "metadata": {},
   "outputs": [],
   "source": [
    "def test_csv_to_dataframe_no_params():\n",
    "    '''Testing the correct error dictionary is returned when no parameters are specified'''\n",
    "    assert csv_to_dataframe.csv_to_df()=={\"df\":None}"
   ]
  },
  {
   "cell_type": "markdown",
   "metadata": {},
   "source": [
    "## FUNCTION csv_to_df FOR csv file and non csv file"
   ]
  },
  {
   "cell_type": "code",
   "execution_count": 77,
   "metadata": {},
   "outputs": [],
   "source": [
    "data=pd.DataFrame([[1,2,3],[1,2,3]])\n",
    "data.columns=['a','b','c']\n",
    "def test_csv():\n",
    "    csv_buffer = StringIO()\n",
    "    file_buff = data.to_csv(csv_buffer,index=False)\n",
    "    csv_buffer.seek(0)\n",
    "    assert csv_to_dataframe.csv_to_df(csv_buffer)['df'].equals(data)\n",
    "def test_non_csv():\n",
    "    html_buffer = StringIO()\n",
    "    file_buff = data.to_html(html_buffer,index=False)\n",
    "    html_buffer.seek(0)\n",
    "    assert not csv_to_dataframe.csv_to_df(html_buffer)['df'].equals(data)"
   ]
  }
 ],
 "metadata": {
  "kernelspec": {
   "display_name": "Python 3",
   "language": "python",
   "name": "python3"
  },
  "language_info": {
   "codemirror_mode": {
    "name": "ipython",
    "version": 3
   },
   "file_extension": ".py",
   "mimetype": "text/x-python",
   "name": "python",
   "nbconvert_exporter": "python",
   "pygments_lexer": "ipython3",
   "version": "3.9.0"
  },
  "toc": {
   "base_numbering": 1,
   "nav_menu": {},
   "number_sections": true,
   "sideBar": true,
   "skip_h1_title": false,
   "title_cell": "Table of Contents",
   "title_sidebar": "Contents",
   "toc_cell": true,
   "toc_position": {
    "height": "calc(100% - 180px)",
    "left": "10px",
    "top": "150px",
    "width": "198px"
   },
   "toc_section_display": true,
   "toc_window_display": true
  }
 },
 "nbformat": 4,
 "nbformat_minor": 4
}
