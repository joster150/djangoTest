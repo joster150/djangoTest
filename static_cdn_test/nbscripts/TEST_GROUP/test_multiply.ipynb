{
 "cells": [
  {
   "cell_type": "markdown",
   "metadata": {},
   "source": [
    "This module contains tests for the multiplication functions within the multiply module"
   ]
  },
  {
   "cell_type": "markdown",
   "metadata": {
    "toc": true
   },
   "source": [
    "<h1>Table of Contents<span class=\"tocSkip\"></span></h1>\n",
    "<div class=\"toc\"><ul class=\"toc-item\"><li><span><a href=\"#Imports\" data-toc-modified-id=\"Imports-1\"><span class=\"toc-item-num\">1&nbsp;&nbsp;</span>Imports</a></span></li><li><span><a href=\"#Test-Functions\" data-toc-modified-id=\"Test-Functions-2\"><span class=\"toc-item-num\">2&nbsp;&nbsp;</span>Test Functions</a></span><ul class=\"toc-item\"><li><span><a href=\"#FUNCTION-multiply-FOR-no-params\" data-toc-modified-id=\"FUNCTION-multiply-FOR-no-params-2.1\"><span class=\"toc-item-num\">2.1&nbsp;&nbsp;</span>FUNCTION multiply FOR no params</a></span></li><li><span><a href=\"#FUNCTION-multiply-FOR-string,-int,-and-float-params\" data-toc-modified-id=\"FUNCTION-multiply-FOR-string,-int,-and-float-params-2.2\"><span class=\"toc-item-num\">2.2&nbsp;&nbsp;</span>FUNCTION multiply FOR string, int, and float params</a></span></li></ul></li></ul></div>"
   ]
  },
  {
   "cell_type": "markdown",
   "metadata": {},
   "source": [
    "# Imports"
   ]
  },
  {
   "cell_type": "code",
   "execution_count": 26,
   "metadata": {},
   "outputs": [],
   "source": [
    "from importnb import Notebook\n",
    "import pytest\n",
    "with __import__('importnb').Notebook():\n",
    "    import multiply"
   ]
  },
  {
   "cell_type": "markdown",
   "metadata": {},
   "source": [
    "# Test Functions"
   ]
  },
  {
   "cell_type": "markdown",
   "metadata": {},
   "source": [
    "## FUNCTION multiply FOR no params"
   ]
  },
  {
   "cell_type": "code",
   "execution_count": 27,
   "metadata": {},
   "outputs": [],
   "source": [
    "def test_multiply_no_params():\n",
    "    '''Testing the correct error dictionary is returned when no parameters are specified'''\n",
    "    assert multiply.multiply()=={\"mult_out\":None}"
   ]
  },
  {
   "cell_type": "markdown",
   "metadata": {},
   "source": [
    "## FUNCTION multiply FOR string, int, and float params"
   ]
  },
  {
   "cell_type": "code",
   "execution_count": 28,
   "metadata": {},
   "outputs": [],
   "source": [
    "tuple_list=[('as','2','asas'),('as','2.2',None),('2','2.2',4.4),\n",
    "    ('3.5','1.0',3.5),('wewdf','forr',None),('4','a','aaaa')]\n",
    "@pytest.mark.parametrize(\"a,b,out\", tuple_list)\n",
    "def test_str_and_int(a,b,out):\n",
    "    assert multiply.multiply(a,b) == {'mult_out':out}"
   ]
  }
 ],
 "metadata": {
  "kernelspec": {
   "display_name": "Python 3",
   "language": "python",
   "name": "python3"
  },
  "language_info": {
   "codemirror_mode": {
    "name": "ipython",
    "version": 3
   },
   "file_extension": ".py",
   "mimetype": "text/x-python",
   "name": "python",
   "nbconvert_exporter": "python",
   "pygments_lexer": "ipython3",
   "version": "3.9.0"
  },
  "toc": {
   "base_numbering": 1,
   "nav_menu": {},
   "number_sections": true,
   "sideBar": true,
   "skip_h1_title": false,
   "title_cell": "Table of Contents",
   "title_sidebar": "Contents",
   "toc_cell": true,
   "toc_position": {
    "height": "calc(100% - 180px)",
    "left": "10px",
    "top": "150px",
    "width": "198px"
   },
   "toc_section_display": true,
   "toc_window_display": true
  }
 },
 "nbformat": 4,
 "nbformat_minor": 4
}
