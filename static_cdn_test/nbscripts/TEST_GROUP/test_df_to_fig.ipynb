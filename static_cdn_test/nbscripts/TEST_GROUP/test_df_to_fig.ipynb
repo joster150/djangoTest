{
 "cells": [
  {
   "cell_type": "markdown",
   "metadata": {},
   "source": [
    "This module contains tests for the dataframe and figure functions within the dataframe_to_fig module"
   ]
  },
  {
   "cell_type": "markdown",
   "metadata": {
    "toc": true
   },
   "source": [
    "<h1>Table of Contents<span class=\"tocSkip\"></span></h1>\n",
    "<div class=\"toc\"><ul class=\"toc-item\"><li><span><a href=\"#Imports\" data-toc-modified-id=\"Imports-1\"><span class=\"toc-item-num\">1&nbsp;&nbsp;</span>Imports</a></span></li><li><span><a href=\"#Test-Functions\" data-toc-modified-id=\"Test-Functions-2\"><span class=\"toc-item-num\">2&nbsp;&nbsp;</span>Test Functions</a></span><ul class=\"toc-item\"><li><span><a href=\"#FUNCTION-df_to_line-FOR-no-params\" data-toc-modified-id=\"FUNCTION-df_to_line-FOR-no-params-2.1\"><span class=\"toc-item-num\">2.1&nbsp;&nbsp;</span>FUNCTION df_to_line FOR no params</a></span></li><li><span><a href=\"#FUNCTION-df_to_line-FOR-real-line-and-scatter\" data-toc-modified-id=\"FUNCTION-df_to_line-FOR-real-line-and-scatter-2.2\"><span class=\"toc-item-num\">2.2&nbsp;&nbsp;</span>FUNCTION df_to_line FOR real line and scatter</a></span></li><li><span><a href=\"#FUNCTION-fig_to_labelled_fig-FOR-no-params\" data-toc-modified-id=\"FUNCTION-fig_to_labelled_fig-FOR-no-params-2.3\"><span class=\"toc-item-num\">2.3&nbsp;&nbsp;</span>FUNCTION fig_to_labelled_fig FOR no params</a></span></li><li><span><a href=\"#FUNCTION-fig_to_labelled_fig-FOR\" data-toc-modified-id=\"FUNCTION-fig_to_labelled_fig-FOR-2.4\"><span class=\"toc-item-num\">2.4&nbsp;&nbsp;</span>FUNCTION fig_to_labelled_fig FOR</a></span></li></ul></li></ul></div>"
   ]
  },
  {
   "cell_type": "markdown",
   "metadata": {},
   "source": [
    "# Imports"
   ]
  },
  {
   "cell_type": "code",
   "execution_count": 72,
   "metadata": {},
   "outputs": [],
   "source": [
    "from importnb import Notebook\n",
    "from importlib import reload\n",
    "import pytest\n",
    "import pandas as pd\n",
    "with __import__('importnb').Notebook():\n",
    "    import df_to_fig\n",
    "    reload(df_to_fig)"
   ]
  },
  {
   "cell_type": "markdown",
   "metadata": {},
   "source": [
    "# Test Functions"
   ]
  },
  {
   "cell_type": "markdown",
   "metadata": {},
   "source": [
    "## FUNCTION df_to_line FOR no params"
   ]
  },
  {
   "cell_type": "code",
   "execution_count": 73,
   "metadata": {},
   "outputs": [],
   "source": [
    "def test_df_to_line_no_params():\n",
    "    '''Testing the correct error dictionary is returned when no parameters are specified'''\n",
    "    assert df_to_fig.df_to_line()=={\"fig\":None}"
   ]
  },
  {
   "cell_type": "markdown",
   "metadata": {},
   "source": [
    "## FUNCTION df_to_line FOR real line and scatter"
   ]
  },
  {
   "cell_type": "code",
   "execution_count": 84,
   "metadata": {},
   "outputs": [],
   "source": [
    "test_df=pd.DataFrame([[1,2,3],[2,3,4]])\n",
    "test_df.columns=['x','y','c']\n",
    "data=[{'x':test_df['x'].to_list(),'y':test_df['y'].to_list()}]\n",
    "fig={'type':'scatter','showLine':True,'legend':['leg'],'data':data}\n",
    "fig2={'type':'scatter','showLine':False,'legend':['leg'],'data':data}\n",
    "tuple_list=[(test_df,'x','y','leg',True,fig),(test_df,'x','y','leg',False,fig2)]\n",
    "@pytest.mark.parametrize(\"a,b,c,d,e,out\", tuple_list)\n",
    "def test_one(a,b,c,d,e,out):\n",
    "    '''Test a working case of df_to_line'''\n",
    "    adict=df_to_fig.df_to_line(df=a,X=b,Y=c,legend=d,showLine=e)\n",
    "    #print(adict['fig']==out)\n",
    "    assert adict == {\"fig\":out}"
   ]
  },
  {
   "cell_type": "markdown",
   "metadata": {},
   "source": [
    "## FUNCTION fig_to_labelled_fig FOR no params"
   ]
  },
  {
   "cell_type": "code",
   "execution_count": 85,
   "metadata": {},
   "outputs": [],
   "source": [
    "def test_fig_to_labelled_fig_no_params():\n",
    "    '''Testing the correct error dictionary is returned when no parameters are specified'''\n",
    "    assert df_to_fig.fig_to_labelled_fig()=={\"fig\":None}"
   ]
  },
  {
   "cell_type": "markdown",
   "metadata": {},
   "source": [
    "## FUNCTION fig_to_labelled_fig FOR "
   ]
  },
  {
   "cell_type": "code",
   "execution_count": 86,
   "metadata": {},
   "outputs": [],
   "source": [
    "test_df=pd.DataFrame([[1,2,3],[2,3,4]])\n",
    "test_df.columns=['x','y','c']\n",
    "data=[{'x':test_df['x'].to_list(),'y':test_df['y'].to_list()}]\n",
    "fig={'type':'scatter','showLine':True,'legend':['leg'],'data':data}\n",
    "fig2=fig.copy()\n",
    "fig2['xlabel']=\"xx\"\n",
    "fig2['ylabel']='yy'\n",
    "fig2['title']=\"tt\"\n",
    "tuple_list=[(fig,'xx','yy','tt',fig2)]\n",
    "\n",
    "@pytest.mark.parametrize(\"a,b,c,d,out\", tuple_list)\n",
    "def test_two(a,b,c,d,out):\n",
    "    '''Test a working case of fig_to_labelled_fig'''\n",
    "    print(df_to_fig.fig_to_labelled_fig(fig=a,\n",
    "        xlabel=b,ylabel=c,title=d))\n",
    "    assert df_to_fig.fig_to_labelled_fig(fig=a,\n",
    "        xlabel=b,ylabel=c,title=d) == {\"fig\":out}"
   ]
  },
  {
   "cell_type": "code",
   "execution_count": null,
   "metadata": {},
   "outputs": [],
   "source": []
  }
 ],
 "metadata": {
  "kernelspec": {
   "display_name": "Python 3",
   "language": "python",
   "name": "python3"
  },
  "language_info": {
   "codemirror_mode": {
    "name": "ipython",
    "version": 3
   },
   "file_extension": ".py",
   "mimetype": "text/x-python",
   "name": "python",
   "nbconvert_exporter": "python",
   "pygments_lexer": "ipython3",
   "version": "3.9.0"
  },
  "toc": {
   "base_numbering": 1,
   "nav_menu": {},
   "number_sections": true,
   "sideBar": true,
   "skip_h1_title": false,
   "title_cell": "Table of Contents",
   "title_sidebar": "Contents",
   "toc_cell": true,
   "toc_position": {
    "height": "calc(100% - 180px)",
    "left": "10px",
    "top": "150px",
    "width": "165px"
   },
   "toc_section_display": true,
   "toc_window_display": true
  }
 },
 "nbformat": 4,
 "nbformat_minor": 4
}
