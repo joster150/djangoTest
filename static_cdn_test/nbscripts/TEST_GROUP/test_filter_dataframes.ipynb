{
 "cells": [
  {
   "cell_type": "markdown",
   "metadata": {},
   "source": [
    "This module contains tests for the filtering functions within the filter_dataframes module"
   ]
  },
  {
   "cell_type": "markdown",
   "metadata": {
    "toc": true
   },
   "source": [
    "<h1>Table of Contents<span class=\"tocSkip\"></span></h1>\n",
    "<div class=\"toc\"><ul class=\"toc-item\"><li><span><a href=\"#Imports\" data-toc-modified-id=\"Imports-1\"><span class=\"toc-item-num\">1&nbsp;&nbsp;</span>Imports</a></span></li><li><span><a href=\"#Define-all-test-functions\" data-toc-modified-id=\"Define-all-test-functions-2\"><span class=\"toc-item-num\">2&nbsp;&nbsp;</span>Define all test functions</a></span><ul class=\"toc-item\"><li><span><a href=\"#FUNCTION-df_filter-FOR-no-params\" data-toc-modified-id=\"FUNCTION-df_filter-FOR-no-params-2.1\"><span class=\"toc-item-num\">2.1&nbsp;&nbsp;</span>FUNCTION df_filter FOR no params</a></span></li><li><span><a href=\"#FUNCTION-df_filter-FOR-correct-params\" data-toc-modified-id=\"FUNCTION-df_filter-FOR-correct-params-2.2\"><span class=\"toc-item-num\">2.2&nbsp;&nbsp;</span>FUNCTION df_filter FOR correct params</a></span></li><li><span><a href=\"#FUNCTION-df_filter-FOR-incorrect-params\" data-toc-modified-id=\"FUNCTION-df_filter-FOR-incorrect-params-2.3\"><span class=\"toc-item-num\">2.3&nbsp;&nbsp;</span>FUNCTION df_filter FOR incorrect params</a></span></li></ul></li><li><span><a href=\"#Help-with-Markdown-cells\" data-toc-modified-id=\"Help-with-Markdown-cells-3\"><span class=\"toc-item-num\">3&nbsp;&nbsp;</span>Help with Markdown cells</a></span></li><li><span><a href=\"#Remember-you-can-use-latex-equations\" data-toc-modified-id=\"Remember-you-can-use-latex-equations-4\"><span class=\"toc-item-num\">4&nbsp;&nbsp;</span>Remember you can use latex equations</a></span></li></ul></div>"
   ]
  },
  {
   "cell_type": "markdown",
   "metadata": {},
   "source": [
    "# Imports\n",
    "Notebook from importnb allows Jupyter notebooks to be imported so is **ESSENTIAL**.The reload function may be required if chnages are being made to to-be-tested module while testing. Use the format below to import your own module to be tested."
   ]
  },
  {
   "cell_type": "code",
   "execution_count": 56,
   "metadata": {},
   "outputs": [],
   "source": [
    "from importnb import Notebook\n",
    "from importlib import reload\n",
    "import pytest#Used to allow list of test params to be passed to a function\n",
    "import pandas as pd\n",
    "with __import__('importnb').Notebook():\n",
    "    import filter_dataframes\n",
    "    reload(filter_dataframes)"
   ]
  },
  {
   "cell_type": "markdown",
   "metadata": {},
   "source": [
    "# Define all test functions\n",
    "Some rules:\n",
    "* Add a markdown cell heading, beginning with **FUNCTION your_func FOR what_you_are_testing_for**, to introduce the function \n",
    "* Ensure a Doc String (contained within '''Some Text''') is the first line of the function\n",
    "* Use assert to test if some comparison is as expectedall required parameters are set with default values."
   ]
  },
  {
   "cell_type": "markdown",
   "metadata": {},
   "source": [
    "## FUNCTION df_filter FOR no params"
   ]
  },
  {
   "cell_type": "code",
   "execution_count": 57,
   "metadata": {},
   "outputs": [],
   "source": [
    "def test_df_filter():\n",
    "    '''Testing the correct error dictionary is returned when no parameters are specified'''\n",
    "    assert filter_dataframes.df_filter()=={\"df\":None}"
   ]
  },
  {
   "cell_type": "markdown",
   "metadata": {},
   "source": [
    "## FUNCTION df_filter FOR correct params"
   ]
  },
  {
   "cell_type": "code",
   "execution_count": 58,
   "metadata": {},
   "outputs": [],
   "source": [
    "test_df=pd.DataFrame([[1,2,'a'],[2,3,'b'],[3,4,'c']])\n",
    "test_df.columns=['x','y','c']\n",
    "tuple_list=[(test_df,'x','Equal To','2',test_df.loc[test_df['x']==2]),\n",
    "            (test_df,'c','Equal To','a',test_df.loc[test_df['c']=='a']),\n",
    "            (test_df,'y','Not Equal To','2',test_df.loc[test_df['y']!=2]),\n",
    "            (test_df,'c','Not Equal To','a',test_df.loc[test_df['c']!='a']),\n",
    "            (test_df,'x','Greater Than (inc)','2',test_df.loc[test_df['x']>=2]),\n",
    "            (test_df,'y','Less Than (inc)','2',test_df.loc[test_df['y']<=2]),\n",
    "            (test_df,'x','In List','1, 3',test_df.loc[test_df['x'].isin([1,3])]),\n",
    "            (test_df,'c','In List','a,b',test_df.loc[test_df['c'].isin(['a','b'])]),\n",
    "            (test_df,'x','Not In List','1, 2',test_df.loc[~test_df['x'].isin([1,2])]),\n",
    "            (test_df,'c','Not In List','a,c',test_df.loc[~test_df['c'].isin(['a','c'])]),\n",
    "           ]\n",
    "@pytest.mark.parametrize(\"a,b,c,d,out\", tuple_list)\n",
    "def test_correct(a,b,c,d,out):\n",
    "    '''Test multiple working cases of df_filter'''\n",
    "    adict=filter_dataframes.df_filter(df=a,column=b,filter_using=c,filter_val=d)\n",
    "    #print(adict,{\"df\":out})\n",
    "    assert adict[\"df\"].equals(out)"
   ]
  },
  {
   "cell_type": "markdown",
   "metadata": {},
   "source": [
    "## FUNCTION df_filter FOR incorrect params"
   ]
  },
  {
   "cell_type": "code",
   "execution_count": 59,
   "metadata": {},
   "outputs": [],
   "source": [
    "test_df=pd.DataFrame([[1,2,'a'],[2,3,'b'],[3,4,'c']])\n",
    "test_df.columns=['x','y','c']\n",
    "tuple_list=[(test_df,'x','Equal To2','2',None),\n",
    "            (test_df,12.23,'Equal To','a',None),\n",
    "            ('test_df','y','Not Equal To','2',None),\n",
    "            (2,'c','Not Equal To','a',None),\n",
    "            (test_df,'x','Greater Than (inc)','a',None)]\n",
    "@pytest.mark.parametrize(\"a,b,c,d,out\", tuple_list)\n",
    "def test_incorrect(a,b,c,d,out):\n",
    "    '''Test multiple working cases of df_filter'''\n",
    "    adict=filter_dataframes.df_filter(df=a,column=b,filter_using=c,filter_val=d)\n",
    "    #print(adict,{\"df\":out})\n",
    "    assert adict[\"df\"]==out"
   ]
  },
  {
   "cell_type": "code",
   "execution_count": 60,
   "metadata": {},
   "outputs": [],
   "source": [
    "####To test the tests without running pytest \n",
    "#for i in range(len(tuple_list)):\n",
    "    #test_incorrect(*tuple_list[i])\n",
    "    #print(i,\" has passed\")"
   ]
  },
  {
   "cell_type": "markdown",
   "metadata": {},
   "source": [
    "# Help with Markdown cells\n",
    "\n",
    "For help with markdown vist [markdownguide](https://markdownguide.org/basic-syntax/)"
   ]
  },
  {
   "cell_type": "markdown",
   "metadata": {},
   "source": [
    "# Remember you can use latex equations\n",
    "\n",
    "* To write equations first start a math environment using double dollar signs    \n",
    "* Then write your equations and close the environment with double dollar signs  \n",
    "* For in-line equations use single dollar signs $e=mc^2$  \n",
    "* Remember Latex uses \\\\ to indicate many equation objects and use {} to surround information when its for a specific object.  \n",
    "* \\_ indicates subscript and \\^ indicates superscript (you will need to use {} if the sub or superscript is not a single number  * ie. {-i, j}). \n",
    "$$\n",
    "X=\\frac{A_{-i, j}}{B^2}\n",
    "$$\n",
    "\n",
    "\n",
    "See [Mathjax](https://math.meta.stackexchange.com/questions/5020/mathjax-basic-tutorial-and-quick-reference) for more help."
   ]
  },
  {
   "cell_type": "code",
   "execution_count": null,
   "metadata": {},
   "outputs": [],
   "source": []
  }
 ],
 "metadata": {
  "kernelspec": {
   "display_name": "Python 3",
   "language": "python",
   "name": "python3"
  },
  "language_info": {
   "codemirror_mode": {
    "name": "ipython",
    "version": 3
   },
   "file_extension": ".py",
   "mimetype": "text/x-python",
   "name": "python",
   "nbconvert_exporter": "python",
   "pygments_lexer": "ipython3",
   "version": "3.9.0"
  },
  "toc": {
   "base_numbering": 1,
   "nav_menu": {},
   "number_sections": true,
   "sideBar": true,
   "skip_h1_title": false,
   "title_cell": "Table of Contents",
   "title_sidebar": "Contents",
   "toc_cell": true,
   "toc_position": {
    "height": "calc(100% - 180px)",
    "left": "10px",
    "top": "150px",
    "width": "198px"
   },
   "toc_section_display": true,
   "toc_window_display": true
  }
 },
 "nbformat": 4,
 "nbformat_minor": 4
}
