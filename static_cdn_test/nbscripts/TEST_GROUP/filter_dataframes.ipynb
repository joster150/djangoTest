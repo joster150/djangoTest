{
 "cells": [
  {
   "cell_type": "markdown",
   "metadata": {},
   "source": [
    "This module is contains filtering functions for pandas' DataFrames"
   ]
  },
  {
   "cell_type": "markdown",
   "metadata": {
    "toc": true
   },
   "source": [
    "<h1>Table of Contents<span class=\"tocSkip\"></span></h1>\n",
    "<div class=\"toc\"><ul class=\"toc-item\"><li><span><a href=\"#Imports\" data-toc-modified-id=\"Imports-1\"><span class=\"toc-item-num\">1&nbsp;&nbsp;</span>Imports</a></span></li><li><span><a href=\"#Define-all-functions-within-notebook\" data-toc-modified-id=\"Define-all-functions-within-notebook-2\"><span class=\"toc-item-num\">2&nbsp;&nbsp;</span>Define all functions within notebook</a></span></li><li><span><a href=\"#Define-all-functions\" data-toc-modified-id=\"Define-all-functions-3\"><span class=\"toc-item-num\">3&nbsp;&nbsp;</span>Define all functions</a></span><ul class=\"toc-item\"><li><span><a href=\"#FUNCTION---Filter-multiple-columns-of-DataFrames\" data-toc-modified-id=\"FUNCTION---Filter-multiple-columns-of-DataFrames-3.1\"><span class=\"toc-item-num\">3.1&nbsp;&nbsp;</span>FUNCTION - Filter multiple columns of DataFrames</a></span></li></ul></li><li><span><a href=\"#Help-with-Markdown-cells\" data-toc-modified-id=\"Help-with-Markdown-cells-4\"><span class=\"toc-item-num\">4&nbsp;&nbsp;</span>Help with Markdown cells</a></span></li><li><span><a href=\"#Remember-you-can-use-latex-equations\" data-toc-modified-id=\"Remember-you-can-use-latex-equations-5\"><span class=\"toc-item-num\">5&nbsp;&nbsp;</span>Remember you can use latex equations</a></span></li></ul></div>"
   ]
  },
  {
   "cell_type": "markdown",
   "metadata": {},
   "source": [
    "# Imports"
   ]
  },
  {
   "cell_type": "code",
   "execution_count": 17,
   "metadata": {},
   "outputs": [],
   "source": [
    "import pandas as pd"
   ]
  },
  {
   "cell_type": "markdown",
   "metadata": {},
   "source": [
    "# Define all functions within notebook\n",
    "This function will be read by the website to inform import functional decisions &mdash; so be careful!\n",
    "\n",
    "\n",
    "Some rules:\n",
    "1. **Must** be a function called **in_out_def()**\n",
    "2. **Must return a dictionary in the form:**  \n",
    "        {  \n",
    "        \"func_1_name\":  \n",
    "        {   \n",
    "        'inputs: {\"param_1\": \"param_type\", \"param_2\": \"param_type\"}  \n",
    "        'outputs: {\"output_param_1\": \"output_param_type\"}  \n",
    "        },  \n",
    "        \"func_2_name\":  \n",
    "        {  \n",
    "        'inputs: {\"param_1\": \"param_type\", \"param_2\": \"param_type\"}  \n",
    "        'outputs: {\"output_param_1\": \"output_param_type\"}  \n",
    "        },  \n",
    "        }  \n",
    "3. Input parameter types include:\n",
    "    - \"variable\" (for passing a variable from a previous step)\n",
    "    - \"text_input\" (for text input by user)\n",
    "    - \"file_browse\" (for user providing a file)\n",
    "    - \"files_browse\" (for user providing multiple files)\n",
    "    - \"float_input\" (for user providing a float value)\n",
    "    - \"int_input\" (for user providing an integer value)\n",
    "    - \"boolean\" (for providing a true or false value)\n",
    "    - \"choice[options]\" (for providing specific options to choose from)"
   ]
  },
  {
   "cell_type": "code",
   "execution_count": 18,
   "metadata": {},
   "outputs": [],
   "source": [
    "def in_out_def():\n",
    "    return {\n",
    "        'df_filter': {'inputs': {\"df\": \"variable\", \"column\": \"text_input\",\n",
    "                                 \"filter_using\": \"choice[Equal To,Not Equal To,Greater Than (inc),Less Than (inc),In List,Not In List]\",\n",
    "                                 \"filter_val\": \"text_input\"},\n",
    "                      'outputs': {\"df\": \"variable\"}}\n",
    "    }"
   ]
  },
  {
   "cell_type": "markdown",
   "metadata": {},
   "source": [
    "# Define all functions\n",
    "Some rules:\n",
    "* Add a markdown cell heading, beginning with **FUNCTION -**, to introduce the function \n",
    "* Ensure a Doc String (contained within '''Some Text''') is the first line of the function\n",
    "* Ensure all required parameters are set with default values.\n",
    "* Ensure something is always returned \n",
    "- Return variables within a dictionary where the key provides a name\n",
    "- Return the same dictionary but with **None** values if there is an error\n",
    "* Ensure the function is correctly described within **in_out_def**\n",
    "* Ensure some parameter validation occurs (**isinstance** is a good check)"
   ]
  },
  {
   "cell_type": "markdown",
   "metadata": {},
   "source": [
    "## FUNCTION - Filter multiple columns of DataFrames"
   ]
  },
  {
   "cell_type": "code",
   "execution_count": 19,
   "metadata": {},
   "outputs": [],
   "source": [
    "def df_filter(df=None, column=None, filter_using=None, filter_val=None):\n",
    "    '''Take df and filter using a column, a filter type and a filter_val provided. Return filtered dataframe'''\n",
    "    try:\n",
    "        if isinstance(df, pd.DataFrame) and isinstance(column,\n",
    "        str) and isinstance(filter_using, str) and isinstance(filter_val, str):\n",
    "            condition=filter_condition(df,column,filter_using,filter_val)\n",
    "            return {\"df\": df.loc[condition]}\n",
    "    except:\n",
    "        pass\n",
    "    return {\"df\": None}"
   ]
  },
  {
   "cell_type": "code",
   "execution_count": 20,
   "metadata": {},
   "outputs": [],
   "source": [
    "def filter_condition(file,col,opt,value):\n",
    "    condition=''\n",
    "    opt=\"\".join(opt.split()).lower()\n",
    "    try:\n",
    "        if opt=='equalto':\n",
    "                if file.dtypes.loc[col]=='int64':\n",
    "                    condition=file[col]==int(value)\n",
    "                elif file.dtypes.loc[col]=='float':\n",
    "                    condition=file[col]==float(value)\n",
    "                else:\n",
    "                    condition=file[col]==value\n",
    "        elif opt=='notequalto':\n",
    "            if file.dtypes.loc[col]=='int64':\n",
    "                condition=file[col]!=int(value)\n",
    "            elif file.dtypes.loc[col]=='float':\n",
    "                condition=file[col]!=float(value)\n",
    "            else:\n",
    "                condition=file[col]!=value\n",
    "        elif opt=='greaterthan(inc)':\n",
    "            condition=file[col]>=float(value)\n",
    "        elif opt=='lessthan(inc)':\n",
    "            condition=file[col]<=float(value)\n",
    "        elif opt=='inlist':\n",
    "            if file.dtypes.loc[col]=='int64':\n",
    "                condition=file[col].isin([int(i) for i in \"\".join(value.split()).split(',')])\n",
    "            elif file.dtypes.loc[col]=='float':\n",
    "                condition=file[col].isin([float(i) for i in \"\".join(value.split()).split(',')])\n",
    "            else:\n",
    "                condition=file[col].isin(\"\".join(value.split()).split(','))\n",
    "        elif opt=='notinlist':\n",
    "            if file.dtypes.loc[col]=='int64':\n",
    "                condition=~file[col].isin([int(i) for i in \"\".join(value.split()).split(',')])\n",
    "            elif file.dtypes.loc[col]=='float':\n",
    "                condition=~file[col].isin([float(i) for i in \"\".join(value.split()).split(',')])\n",
    "            else:\n",
    "                condition=~file[col].isin(\"\".join(value.split()).split(','))\n",
    "        if not isinstance(condition,str):\n",
    "            return condition\n",
    "    except:\n",
    "        pass\n",
    "    return None"
   ]
  },
  {
   "cell_type": "markdown",
   "metadata": {},
   "source": [
    "# Help with Markdown cells\n",
    "\n",
    "For help with markdown vist [markdownguide](https://markdownguide.org/basic-syntax/)"
   ]
  },
  {
   "cell_type": "markdown",
   "metadata": {},
   "source": [
    "# Remember you can use latex equations\n",
    "\n",
    "* To write equations first start a math environment using double dollar signs    \n",
    "* Then write your equations and close the environment with double dollar signs  \n",
    "* For in-line equations use single dollar signs $e=mc^2$  \n",
    "* Remember Latex uses \\\\ to indicate many equation objects and use {} to surround information when its for a specific object.  \n",
    "* \\_ indicates subscript and \\^ indicates superscript (you will need to use {} if the sub or superscript is not a single number  * ie. {-i, j}). \n",
    "$$\n",
    "X=\\frac{A_{-i, j}}{B^2}\n",
    "$$\n",
    "\n",
    "\n",
    "See [Mathjax](https://math.meta.stackexchange.com/questions/5020/mathjax-basic-tutorial-and-quick-reference) for more help."
   ]
  },
  {
   "cell_type": "code",
   "execution_count": null,
   "metadata": {},
   "outputs": [],
   "source": []
  }
 ],
 "metadata": {
  "kernelspec": {
   "display_name": "Python 3",
   "language": "python",
   "name": "python3"
  },
  "language_info": {
   "codemirror_mode": {
    "name": "ipython",
    "version": 3
   },
   "file_extension": ".py",
   "mimetype": "text/x-python",
   "name": "python",
   "nbconvert_exporter": "python",
   "pygments_lexer": "ipython3",
   "version": "3.9.0"
  },
  "toc": {
   "base_numbering": 1,
   "nav_menu": {},
   "number_sections": true,
   "sideBar": true,
   "skip_h1_title": false,
   "title_cell": "Table of Contents",
   "title_sidebar": "Contents",
   "toc_cell": true,
   "toc_position": {
    "height": "calc(100% - 180px)",
    "left": "10px",
    "top": "150px",
    "width": "225px"
   },
   "toc_section_display": true,
   "toc_window_display": true
  }
 },
 "nbformat": 4,
 "nbformat_minor": 4
}
