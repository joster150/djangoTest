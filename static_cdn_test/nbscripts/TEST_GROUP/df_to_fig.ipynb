{
 "cells": [
  {
   "cell_type": "markdown",
   "metadata": {},
   "source": [
    "Dataframes to figures"
   ]
  },
  {
   "cell_type": "markdown",
   "metadata": {
    "toc": true
   },
   "source": [
    "<h1>Table of Contents<span class=\"tocSkip\"></span></h1>\n",
    "<div class=\"toc\"><ul class=\"toc-item\"><li><span><a href=\"#Imports\" data-toc-modified-id=\"Imports-1\"><span class=\"toc-item-num\">1&nbsp;&nbsp;</span>Imports</a></span></li><li><span><a href=\"#Define-all-functions-within-notebook\" data-toc-modified-id=\"Define-all-functions-within-notebook-2\"><span class=\"toc-item-num\">2&nbsp;&nbsp;</span>Define all functions within notebook</a></span></li><li><span><a href=\"#Define-all-functions\" data-toc-modified-id=\"Define-all-functions-3\"><span class=\"toc-item-num\">3&nbsp;&nbsp;</span>Define all functions</a></span><ul class=\"toc-item\"><li><span><a href=\"#FUNCTION---df_to_line\" data-toc-modified-id=\"FUNCTION---df_to_line-3.1\"><span class=\"toc-item-num\">3.1&nbsp;&nbsp;</span>FUNCTION - df_to_line</a></span></li><li><span><a href=\"#FUNCTION---fig_to_labelled_fig\" data-toc-modified-id=\"FUNCTION---fig_to_labelled_fig-3.2\"><span class=\"toc-item-num\">3.2&nbsp;&nbsp;</span>FUNCTION - fig_to_labelled_fig</a></span></li><li><span><a href=\"#FUNCTION-df_to_scatter\" data-toc-modified-id=\"FUNCTION-df_to_scatter-3.3\"><span class=\"toc-item-num\">3.3&nbsp;&nbsp;</span>FUNCTION-df_to_scatter</a></span></li></ul></li></ul></div>"
   ]
  },
  {
   "cell_type": "markdown",
   "metadata": {},
   "source": [
    "# Imports"
   ]
  },
  {
   "cell_type": "code",
   "execution_count": 16,
   "metadata": {},
   "outputs": [],
   "source": [
    "import pandas as pd"
   ]
  },
  {
   "cell_type": "markdown",
   "metadata": {},
   "source": [
    "# Define all functions within notebook"
   ]
  },
  {
   "cell_type": "code",
   "execution_count": 22,
   "metadata": {},
   "outputs": [],
   "source": [
    "def in_out_def():\n",
    "    return {\n",
    "        'fig_to_labelled_fig':{'inputs':{\"fig\":\"variable\",\"xlabel\":\"text_input\",\"ylabel\":\"text_input\",\"title\":\"table_param\"},\n",
    "                               'outputs':{\"fig\":\"graph\"}},\n",
    "        'df_to_line':{'inputs':{\"df\":\"variable\",\"X\":\"text_input\",\"Y\":\"text_input\",\"legend\":\"text_input\",\"showLine\":\"boolean\"},'outputs':{\"fig\":\"graph\"}}\n",
    "    }"
   ]
  },
  {
   "cell_type": "markdown",
   "metadata": {},
   "source": [
    "# Define all functions"
   ]
  },
  {
   "cell_type": "markdown",
   "metadata": {},
   "source": [
    "## FUNCTION - df_to_line"
   ]
  },
  {
   "cell_type": "code",
   "execution_count": 20,
   "metadata": {},
   "outputs": [],
   "source": [
    "def df_to_line(df=pd.DataFrame(),X=None,Y=None,legend=None,showLine=None):\n",
    "    '''Take df and columns and create dict for chart js line graph'''\n",
    "    try:\n",
    "        if not df.empty:\n",
    "            data=[{'x':df[X].to_list(),'y':df[Y].to_list()}]\n",
    "            return {\"fig\":{'type':'scatter',\n",
    "                           'showLine':showLine,\n",
    "                           'legend':[legend],\n",
    "                            'data':data}}\n",
    "    except:\n",
    "        pass\n",
    "    return {\"fig\":None}"
   ]
  },
  {
   "cell_type": "markdown",
   "metadata": {},
   "source": [
    "## FUNCTION - fig_to_labelled_fig"
   ]
  },
  {
   "cell_type": "code",
   "execution_count": 21,
   "metadata": {},
   "outputs": [],
   "source": [
    "def fig_to_labelled_fig(fig=None,xlabel=None,ylabel=None,title=None):\n",
    "    '''Take fig and add labels'''\n",
    "    try:\n",
    "        if None not in [fig,xlabel,ylabel,title]:\n",
    "            fig[\"xlabel\"]=xlabel;\n",
    "            fig['ylabel']=ylabel;\n",
    "            fig['title']=title;\n",
    "            return {\"fig\":fig}\n",
    "    except:\n",
    "        pass\n",
    "    return {\"fig\":None}"
   ]
  }
 ],
 "metadata": {
  "kernelspec": {
   "display_name": "Python 3",
   "language": "python",
   "name": "python3"
  },
  "language_info": {
   "codemirror_mode": {
    "name": "ipython",
    "version": 3
   },
   "file_extension": ".py",
   "mimetype": "text/x-python",
   "name": "python",
   "nbconvert_exporter": "python",
   "pygments_lexer": "ipython3",
   "version": "3.9.0"
  },
  "toc": {
   "base_numbering": 1,
   "nav_menu": {},
   "number_sections": true,
   "sideBar": true,
   "skip_h1_title": false,
   "title_cell": "Table of Contents",
   "title_sidebar": "Contents",
   "toc_cell": true,
   "toc_position": {
    "height": "calc(100% - 180px)",
    "left": "10px",
    "top": "150px",
    "width": "170px"
   },
   "toc_section_display": true,
   "toc_window_display": true
  }
 },
 "nbformat": 4,
 "nbformat_minor": 4
}
