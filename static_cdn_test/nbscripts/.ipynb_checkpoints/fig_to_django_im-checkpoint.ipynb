{
 "cells": [
  {
   "cell_type": "markdown",
   "metadata": {},
   "source": [
    "Convert matplotlib figure to images"
   ]
  },
  {
   "cell_type": "code",
   "execution_count": 7,
   "metadata": {},
   "outputs": [],
   "source": [
    "def in_out_def():\n",
    "    return {\n",
    "        'fig_to_html':{'inputs':{\"fig\":\"variable\"},'outputs':{\"uri\":\"img_src\"}}\n",
    "    }"
   ]
  },
  {
   "cell_type": "code",
   "execution_count": 9,
   "metadata": {},
   "outputs": [],
   "source": [
    "import io,base64,urllib\n",
    "import matplotlib.pyplot as plt\n",
    "def fig_to_html(fig=None):\n",
    "    '''Convert fig to imagestring'''\n",
    "    if fig!=None:\n",
    "        buf=io.BytesIO()\n",
    "        fig.savefig(buf,format='png',bbox_inches = \"tight\")\n",
    "        buf.seek(0)\n",
    "        stringImage=base64.b64encode(buf.read())\n",
    "        return {\"uri\":urllib.parse.quote(stringImage)}"
   ]
  }
 ],
 "metadata": {
  "kernelspec": {
   "display_name": "Python 3",
   "language": "python",
   "name": "python3"
  },
  "language_info": {
   "codemirror_mode": {
    "name": "ipython",
    "version": 3
   },
   "file_extension": ".py",
   "mimetype": "text/x-python",
   "name": "python",
   "nbconvert_exporter": "python",
   "pygments_lexer": "ipython3",
   "version": "3.8.2"
  }
 },
 "nbformat": 4,
 "nbformat_minor": 4
}
