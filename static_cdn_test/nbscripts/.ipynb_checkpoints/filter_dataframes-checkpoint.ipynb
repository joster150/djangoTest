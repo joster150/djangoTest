{
 "cells": [
  {
   "cell_type": "markdown",
   "metadata": {},
   "source": [
    "Filter methods"
   ]
  },
  {
   "cell_type": "code",
   "execution_count": null,
   "metadata": {},
   "outputs": [],
   "source": [
    "def in_out_def():\n",
    "    return {\n",
    "        'df_filter':{'inputs':{\"df\":\"variable\",\"columns\":\"text_input\",\"filter_using\":\"text_input\",\"filter_val\":\"text_input\"},\n",
    "                     'outputs':{\"df\":\"variable\"}}\n",
    "    }"
   ]
  },
  {
   "cell_type": "code",
   "execution_count": null,
   "metadata": {},
   "outputs": [],
   "source": [
    "import pandas as pd\n",
    "def df_filter(df=None,columns=None,filter_using=None,filter_val=None):\n",
    "    '''Take df and filter using columns, filter types and filter_vals provided. Return filtered dataframe'''\n",
    "    if isInstance(df,pd.dataframe) and isInstance(columns,list) and isInstance(filter_using,list) and isInstance(filter_val,list):\n",
    "        return {\"df\":df}"
   ]
  }
 ],
 "metadata": {
  "kernelspec": {
   "display_name": "Python 3",
   "language": "python",
   "name": "python3"
  },
  "language_info": {
   "codemirror_mode": {
    "name": "ipython",
    "version": 3
   },
   "file_extension": ".py",
   "mimetype": "text/x-python",
   "name": "python",
   "nbconvert_exporter": "python",
   "pygments_lexer": "ipython3",
   "version": "3.8.2"
  }
 },
 "nbformat": 4,
 "nbformat_minor": 4
}
