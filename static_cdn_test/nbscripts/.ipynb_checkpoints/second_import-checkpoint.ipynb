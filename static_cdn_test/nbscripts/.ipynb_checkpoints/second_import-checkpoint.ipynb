{
 "cells": [
  {
   "cell_type": "markdown",
   "metadata": {},
   "source": [
    "Test of whole file docstring"
   ]
  },
  {
   "cell_type": "code",
   "execution_count": 2,
   "metadata": {},
   "outputs": [],
   "source": [
    "def multiply(a='',b='1'):\n",
    "    '''Reading the doctest test'''\n",
    "    try:\n",
    "        a=float(a)\n",
    "    except:\n",
    "        pass\n",
    "    try:\n",
    "        b=float(b)\n",
    "    except:\n",
    "        pass\n",
    "    if not (isinstance(a,str) and isinstance(b,str)):\n",
    "        \n",
    "        return {\"mult_out\":a*b}"
   ]
  },
  {
   "cell_type": "code",
   "execution_count": 6,
   "metadata": {},
   "outputs": [],
   "source": [
    "def in_out_def():\n",
    "    return {\n",
    "        'multiply':{'inputs':{\"a\":\"text_input\",\"b\":\"text_input\"},'outputs':{\"mult_out\":\"variable\"}},\n",
    "        'other':{'inputs':{\"a\":\"number_input\"},'outputs':{\"other_out\":\"variable\"}}\n",
    "    }"
   ]
  },
  {
   "cell_type": "code",
   "execution_count": 7,
   "metadata": {},
   "outputs": [],
   "source": [
    "def other(a=0):\n",
    "    '''Hello This is a docstring'''\n",
    "    return {\"other_out\":\"hi\"}"
   ]
  },
  {
   "cell_type": "code",
   "execution_count": null,
   "metadata": {},
   "outputs": [],
   "source": []
  }
 ],
 "metadata": {
  "kernelspec": {
   "display_name": "Python 3",
   "language": "python",
   "name": "python3"
  },
  "language_info": {
   "codemirror_mode": {
    "name": "ipython",
    "version": 3
   },
   "file_extension": ".py",
   "mimetype": "text/x-python",
   "name": "python",
   "nbconvert_exporter": "python",
   "pygments_lexer": "ipython3",
   "version": "3.8.2"
  }
 },
 "nbformat": 4,
 "nbformat_minor": 4
}
