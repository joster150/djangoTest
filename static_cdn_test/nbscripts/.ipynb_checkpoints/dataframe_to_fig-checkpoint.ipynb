{
 "cells": [
  {
   "cell_type": "markdown",
   "metadata": {},
   "source": [
    "Dataframes to figures"
   ]
  },
  {
   "cell_type": "code",
   "execution_count": 13,
   "metadata": {},
   "outputs": [],
   "source": [
    "def in_out_def():\n",
    "    return {\n",
    "        'fig_to_labelled_fig':{'inputs':{\"fig\":\"variable\",\"ax\":\"variable\",\"xlabel\":\"text_input\",\"ylabel\":\"text_input\",\"title\":\"table_param\"},\n",
    "                               'outputs':{\"fig\":\"variable\",\"ax\":\"variable\"}},\n",
    "        'df_to_line':{'inputs':{\"df\":\"variable\",\"X\":\"text_input\",\"Y\":\"text_input\"},'outputs':{\"fig\":\"variable\",\"ax\":\"variable\"}}\n",
    "    }"
   ]
  },
  {
   "cell_type": "code",
   "execution_count": 1,
   "metadata": {},
   "outputs": [],
   "source": [
    "import pandas as pd\n",
    "import matplotlib.pyplot as plt\n",
    "def df_to_line(df=pd.DataFrame(),X=None,Y=None):\n",
    "    '''Take df and columns and plot as line graph'''\n",
    "    if not df.empty:\n",
    "        fig, ax = plt.subplots()\n",
    "        df.plot(ax=ax,x=X,y=Y)\n",
    "        return {\"fig\":fig,\"ax\":ax}"
   ]
  },
  {
   "cell_type": "code",
   "execution_count": 2,
   "metadata": {},
   "outputs": [],
   "source": [
    "import pandas as pd\n",
    "def fig_to_labelled_fig(fig=None,ax=None,xlabel=None,ylabel=None,title=None):\n",
    "    '''Take fig and ax and add text'''\n",
    "    if None not in [fig,ax,xlabel,ylabel,title]:\n",
    "        ax.set_title(title)\n",
    "        ax.set_xlabel(xlabel)\n",
    "        ax.set_ylabel(ylabel)\n",
    "        return {\"fig\":fig,\"ax\":ax}"
   ]
  }
 ],
 "metadata": {
  "kernelspec": {
   "display_name": "Python 3",
   "language": "python",
   "name": "python3"
  },
  "language_info": {
   "codemirror_mode": {
    "name": "ipython",
    "version": 3
   },
   "file_extension": ".py",
   "mimetype": "text/x-python",
   "name": "python",
   "nbconvert_exporter": "python",
   "pygments_lexer": "ipython3",
   "version": "3.8.2"
  }
 },
 "nbformat": 4,
 "nbformat_minor": 4
}
